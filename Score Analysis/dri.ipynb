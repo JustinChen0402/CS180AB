{
 "cells": [
  {
   "cell_type": "code",
   "execution_count": 1,
   "id": "7e9ea489",
   "metadata": {},
   "outputs": [],
   "source": [
    "import requests\n",
    "from bs4 import BeautifulSoup"
   ]
  },
  {
   "cell_type": "markdown",
   "id": "e8687464",
   "metadata": {},
   "source": [
    "处理网站返回的数据，把string转换成float"
   ]
  },
  {
   "cell_type": "code",
   "execution_count": 2,
   "id": "ac13e2b5",
   "metadata": {},
   "outputs": [],
   "source": [
    "import re\n",
    "\n",
    "def process_dict(input_dict):\n",
    "    result = {}\n",
    "    for key in input_dict:\n",
    "        value_list = input_dict[key]\n",
    "        for string in value_list:\n",
    "            cleaned_string_list = re.findall(r'\\d+(?:\\.\\d+)?', string)\n",
    "            float_values = [float(num) for num in cleaned_string_list if num]\n",
    "            result[key] = float_values\n",
    "    return result"
   ]
  },
  {
   "cell_type": "code",
   "execution_count": 3,
   "id": "cb8b8621",
   "metadata": {},
   "outputs": [],
   "source": [
    "def process_dict_b(input_dict):\n",
    "    result = {}\n",
    "    for key in input_dict:\n",
    "        value_list = input_dict[key]\n",
    "        float_values = []\n",
    "        for string in value_list:\n",
    "            cleaned_string_list = re.sub(r'[^0-9.]+', '', string)\n",
    "            if cleaned_string_list:\n",
    "                float_values.append(cleaned_string_list)\n",
    "            else:\n",
    "                float_values.append(None)\n",
    "        result[key] = float_values\n",
    "    return result"
   ]
  },
  {
   "cell_type": "markdown",
   "id": "acc660e4",
   "metadata": {},
   "source": [
    "从html里提取表格数据"
   ]
  },
  {
   "cell_type": "code",
   "execution_count": 4,
   "id": "209587f7",
   "metadata": {},
   "outputs": [],
   "source": [
    "def extra_table(soup,id,number):\n",
    "    # Find the table with id 'macronutrients-table'\n",
    "    table = soup.find('table', {'id': id})\n",
    "    temp = {}\n",
    "    # Find the table rows in the table body\n",
    "    rows = table.tbody.find_all('tr')\n",
    "\n",
    "    # Iterate over the rows and extract the macronutrient data\n",
    "    # Iterate over the rows and extract the macronutrient data\n",
    "    for row in rows:\n",
    "        cells = row.find_all('td')\n",
    "        if len(cells) == number:\n",
    "            temp[cells[0].text.strip()] = [cells[i].text.strip() for i in range(1,number)]\n",
    "    return temp"
   ]
  },
  {
   "cell_type": "code",
   "execution_count": 5,
   "id": "b465ee25",
   "metadata": {},
   "outputs": [],
   "source": [
    "def pull(sex,age,feet,inches,pounds,activity_level):\n",
    "    url = \"https://www.nal.usda.gov/human-nutrition-and-food-safety/dri-calculator\"\n",
    "\n",
    "    # 构造POST请求参数\n",
    "    payload = {\n",
    "        \"measurement_units\": \"std\",\n",
    "        \"sex\": sex,\n",
    "        \"age_value\": age,\n",
    "        \"age_type\": \"yrs\",\n",
    "        \"feet\": feet,\n",
    "        \"inches\": inches,\n",
    "        \"cm\": None,\n",
    "        \"pounds\": pounds,\n",
    "        \"kilos\": None,\n",
    "        \"activity_level\": activity_level,\n",
    "        \"op\": \"Submit\",\n",
    "        \"form_build_id\": None,\n",
    "        \"form_id\": \"dri_calculator_form\"\n",
    "    }\n",
    "\n",
    "\n",
    "    # 发送POST请求\n",
    "    response = requests.post(url, data=payload)\n",
    "\n",
    "    html_content = response.content\n",
    "    soup = BeautifulSoup(html_content, 'html.parser')\n",
    "\n",
    "    return extra_table(soup,\"macronutrients-table\",2),extra_table(soup, \"vitamins-table\", 3),extra_table(soup, \"minerals-table\", 3)"
   ]
  },
  {
   "cell_type": "code",
   "execution_count": 6,
   "id": "171895a2",
   "metadata": {},
   "outputs": [],
   "source": [
    "a,b,c = pull(\"male\",30,5,7,200,\"Active\")"
   ]
  },
  {
   "cell_type": "code",
   "execution_count": 7,
   "id": "1396c6b1",
   "metadata": {},
   "outputs": [
    {
     "data": {
      "text/plain": [
       "{'Carbohydrate': ['374 - 541 grams  More Information About Carbohydrate'],\n",
       " 'Total Fiber': ['38 grams'],\n",
       " 'Protein': ['73 grams'],\n",
       " 'Fat': ['74 - 129 grams  More Information About Fat'],\n",
       " 'Saturated fatty acids': ['As low as possible while consuming a nutritionally adequate diet.'],\n",
       " 'Trans fatty acids': ['As low as possible while consuming a nutritionally adequate diet.'],\n",
       " 'α-Linolenic Acid': ['1.6 grams  More Information About Alpha_linolenic_acid'],\n",
       " 'Linoleic Acid': ['17 grams  More Information About Linoleic_acid'],\n",
       " 'Dietary Cholesterol': ['As low as possible while consuming a nutritionally adequate diet.'],\n",
       " 'Total Water': ['3.7 liters  (about 16 cups) More Information About Water']}"
      ]
     },
     "execution_count": 7,
     "metadata": {},
     "output_type": "execute_result"
    }
   ],
   "source": [
    "a"
   ]
  },
  {
   "cell_type": "code",
   "execution_count": 8,
   "id": "a2156b1c",
   "metadata": {},
   "outputs": [
    {
     "data": {
      "text/plain": [
       "{'Saturated fatty acids': ['As low as possible while consuming a nutritionally adequate diet.'],\n",
       " 'α-Linolenic Acid': ['1.6 grams  More Information About Alpha_linolenic_acid'],\n",
       " 'Linoleic Acid': ['17 grams  More Information About Linoleic_acid'],\n",
       " 'Carbs (g)': ['374 - 541 grams  More Information About Carbohydrate'],\n",
       " 'Fiber (g)': ['38 grams'],\n",
       " 'Protein (g)': ['73 grams'],\n",
       " 'Fat (g)': ['74 - 129 grams  More Information About Fat'],\n",
       " 'Trans-Fats (g)': ['As low as possible while consuming a nutritionally adequate diet.'],\n",
       " 'Cholesterol (mg)': ['As low as possible while consuming a nutritionally adequate diet.'],\n",
       " 'water': ['3.7 liters  (about 16 cups) More Information About Water']}"
      ]
     },
     "execution_count": 8,
     "metadata": {},
     "output_type": "execute_result"
    }
   ],
   "source": [
    "a\n",
    "a['Carbs (g)'] = a.pop('Carbohydrate')\n",
    "a['Fiber (g)'] = a.pop('Total Fiber')\n",
    "\n",
    "a['Protein (g)'] = a.pop('Protein')\n",
    "a['Fat (g)'] = a.pop('Fat')\n",
    "a['Trans-Fats (g)'] = a.pop('Trans fatty acids')\n",
    "a['Cholesterol (mg)'] = a.pop('Dietary Cholesterol')\n",
    "a['water'] = a.pop('Total Water')\n",
    "a"
   ]
  },
  {
   "cell_type": "code",
   "execution_count": 9,
   "id": "4aa91ec3",
   "metadata": {},
   "outputs": [
    {
     "data": {
      "text/plain": [
       "{'Saturated fatty acids': [],\n",
       " 'α-Linolenic Acid': [1.6],\n",
       " 'Linoleic Acid': [17.0],\n",
       " 'Carbs (g)': [374.0, 541.0],\n",
       " 'Fiber (g)': [38.0],\n",
       " 'Protein (g)': [73.0],\n",
       " 'Fat (g)': [74.0, 129.0],\n",
       " 'Trans-Fats (g)': [],\n",
       " 'Cholesterol (mg)': [],\n",
       " 'water': [3.7, 16.0]}"
      ]
     },
     "execution_count": 9,
     "metadata": {},
     "output_type": "execute_result"
    }
   ],
   "source": [
    "a = process_dict(a)\n",
    "a"
   ]
  },
  {
   "cell_type": "code",
   "execution_count": 10,
   "id": "5474e0df",
   "metadata": {},
   "outputs": [
    {
     "data": {
      "text/plain": [
       "{'Vitamin A': ['900 mcg', '3,000 mcg More Information About Vitamin_a'],\n",
       " 'Vitamin C': ['90 mg', '2,000 mg'],\n",
       " 'Vitamin D': ['15 mcg', '100 mcg'],\n",
       " 'Vitamin B6': ['1.3 mg', '100 mg'],\n",
       " 'Vitamin E': ['15 mg', '1,000 mg More Information About Vitamin_e'],\n",
       " 'Vitamin K': ['120 mcg', '0 mcg'],\n",
       " 'Thiamin': ['1.2 mg', '0 mg'],\n",
       " 'Vitamin B12': ['2.4 mcg', '0 mcg'],\n",
       " 'Riboflavin': ['1.3 mg', '0 mg'],\n",
       " 'Folate': ['400 mcg', '1,000 mcg More Information About Folate'],\n",
       " 'Niacin': ['16 mg', '35 mg More Information About Niacin'],\n",
       " 'Choline': ['0.55 g', '3.5 g'],\n",
       " 'Pantothenic Acid': ['5 mg', '0 mg'],\n",
       " 'Biotin': ['30 mcg', '0 mcg'],\n",
       " 'Carotenoids': ['NA', 'ND More Information About Carotenoids']}"
      ]
     },
     "execution_count": 10,
     "metadata": {},
     "output_type": "execute_result"
    }
   ],
   "source": [
    "b"
   ]
  },
  {
   "cell_type": "code",
   "execution_count": 11,
   "id": "db36a149",
   "metadata": {},
   "outputs": [
    {
     "data": {
      "text/plain": [
       "{'Choline': ['0.55 g', '3.5 g'],\n",
       " 'Biotin': ['30 mcg', '0 mcg'],\n",
       " 'Carotenoids': ['NA', 'ND More Information About Carotenoids'],\n",
       " 'Vitamin A (IU)': ['900 mcg', '3,000 mcg More Information About Vitamin_a'],\n",
       " 'Vitamin C (mg)': ['90 mg', '2,000 mg'],\n",
       " 'Vitamin D (IU)': ['15 mcg', '100 mcg'],\n",
       " 'B6 (Pyridoxine) (mg)': ['1.3 mg', '100 mg'],\n",
       " 'Vitamin E (mg)': ['15 mg', '1,000 mg More Information About Vitamin_e'],\n",
       " 'Vitamin K (µg)': ['120 mcg', '0 mcg'],\n",
       " 'B1 (Thiamine) (mg)': ['1.2 mg', '0 mg'],\n",
       " 'B12 (Cobalamin) (µg)': ['2.4 mcg', '0 mcg'],\n",
       " 'B2 (Riboflavin) (mg)': ['1.3 mg', '0 mg'],\n",
       " 'Folate (µg)': ['400 mcg', '1,000 mcg More Information About Folate'],\n",
       " 'B3 (Niacin) (mg)': ['16 mg', '35 mg More Information About Niacin'],\n",
       " 'B5 (Pantothenic Acid) (mg)': ['5 mg', '0 mg']}"
      ]
     },
     "execution_count": 11,
     "metadata": {},
     "output_type": "execute_result"
    }
   ],
   "source": [
    "b['Vitamin A (IU)'] = b.pop('Vitamin A')\n",
    "b['Vitamin C (mg)'] = b.pop('Vitamin C')\n",
    "b['Vitamin D (IU)'] = b.pop('Vitamin D')\n",
    "b['B6 (Pyridoxine) (mg)'] = b.pop('Vitamin B6')\n",
    "b['Vitamin E (mg)'] = b.pop('Vitamin E')\n",
    "b['Vitamin K (µg)'] = b.pop('Vitamin K')\n",
    "b['B1 (Thiamine) (mg)'] = b.pop('Thiamin')\n",
    "b['B12 (Cobalamin) (µg)'] = b.pop('Vitamin B12')\n",
    "b['B2 (Riboflavin) (mg)'] = b.pop('Riboflavin')\n",
    "b['Folate (µg)'] = b.pop('Folate')\n",
    "b['B3 (Niacin) (mg)'] = b.pop('Niacin')\n",
    "b['B5 (Pantothenic Acid) (mg)'] = b.pop('Pantothenic Acid')\n",
    "b"
   ]
  },
  {
   "cell_type": "code",
   "execution_count": 12,
   "id": "9f160909",
   "metadata": {},
   "outputs": [
    {
     "data": {
      "text/plain": [
       "{'Choline': ['0.55', '3.5'],\n",
       " 'Biotin': ['30', '0'],\n",
       " 'Carotenoids': [None, None],\n",
       " 'Vitamin A (IU)': ['900', '3000'],\n",
       " 'Vitamin C (mg)': ['90', '2000'],\n",
       " 'Vitamin D (IU)': ['15', '100'],\n",
       " 'B6 (Pyridoxine) (mg)': ['1.3', '100'],\n",
       " 'Vitamin E (mg)': ['15', '1000'],\n",
       " 'Vitamin K (µg)': ['120', '0'],\n",
       " 'B1 (Thiamine) (mg)': ['1.2', '0'],\n",
       " 'B12 (Cobalamin) (µg)': ['2.4', '0'],\n",
       " 'B2 (Riboflavin) (mg)': ['1.3', '0'],\n",
       " 'Folate (µg)': ['400', '1000'],\n",
       " 'B3 (Niacin) (mg)': ['16', '35'],\n",
       " 'B5 (Pantothenic Acid) (mg)': ['5', '0']}"
      ]
     },
     "execution_count": 12,
     "metadata": {},
     "output_type": "execute_result"
    }
   ],
   "source": [
    "b = process_dict_b(b)\n",
    "b"
   ]
  },
  {
   "cell_type": "code",
   "execution_count": 13,
   "id": "b7c3554e",
   "metadata": {},
   "outputs": [
    {
     "data": {
      "text/plain": [
       "{'Calcium': ['1,000 mg', '2,500 mg'],\n",
       " 'Chloride': ['2.3 g', '3.6 g'],\n",
       " 'Chromium': ['35 mcg', '0 mcg'],\n",
       " 'Copper': ['900 mcg', '10,000 mcg'],\n",
       " 'Fluoride': ['4 mg', '10 mg'],\n",
       " 'Iodine': ['150 mcg', '1,100 mcg'],\n",
       " 'Iron': ['8 mg', '45 mg'],\n",
       " 'Magnesium': ['400 mg', '350 mg More Information About Magnesium'],\n",
       " 'Manganese': ['2.3 mg', '11 mg'],\n",
       " 'Molybdenum': ['45 mcg', '2,000 mcg'],\n",
       " 'Phosphorus': ['0.7 g', '4 g'],\n",
       " 'Potassium': ['3,400 mg', '0 mg'],\n",
       " 'Selenium': ['55 mcg', '400 mcg'],\n",
       " 'Sodium': ['1,500 mg', '0 mg'],\n",
       " 'Zinc': ['11 mg', '40 mg'],\n",
       " 'Arsenic': ['NA', 'ND More Information About Arsenic'],\n",
       " 'Boron': ['0 mg', '20 mg'],\n",
       " 'Nickel': ['0 mg', '1 mg'],\n",
       " 'Silicon': ['NA', 'ND More Information About Silicon'],\n",
       " 'Sulfate': ['NA', 'ND'],\n",
       " 'Vanadium': ['0 mg', '1.8 mg More Information About Vanadium']}"
      ]
     },
     "execution_count": 13,
     "metadata": {},
     "output_type": "execute_result"
    }
   ],
   "source": [
    "c"
   ]
  },
  {
   "cell_type": "code",
   "execution_count": 14,
   "id": "244dfc4d",
   "metadata": {},
   "outputs": [
    {
     "data": {
      "text/plain": [
       "{'Chromium': ['35 mcg', '0 mcg'],\n",
       " 'Copper': ['900 mcg', '10,000 mcg'],\n",
       " 'Fluoride': ['4 mg', '10 mg'],\n",
       " 'Iodine': ['150 mcg', '1,100 mcg'],\n",
       " 'Molybdenum': ['45 mcg', '2,000 mcg'],\n",
       " 'Arsenic': ['NA', 'ND More Information About Arsenic'],\n",
       " 'Boron': ['0 mg', '20 mg'],\n",
       " 'Nickel': ['0 mg', '1 mg'],\n",
       " 'Silicon': ['NA', 'ND More Information About Silicon'],\n",
       " 'Sulfate': ['NA', 'ND'],\n",
       " 'Vanadium': ['0 mg', '1.8 mg More Information About Vanadium'],\n",
       " 'Calcium (mg)': ['1,000 mg', '2,500 mg'],\n",
       " 'Copper (mg)': ['2.3 g', '3.6 g'],\n",
       " 'Iron (mg)': ['8 mg', '45 mg'],\n",
       " 'Magnesium (mg)': ['400 mg', '350 mg More Information About Magnesium'],\n",
       " 'Manganese (mg)': ['2.3 mg', '11 mg'],\n",
       " 'Phosphorus (mg)': ['0.7 g', '4 g'],\n",
       " 'Potassium (mg)': ['3,400 mg', '0 mg'],\n",
       " 'Selenium (µg)': ['55 mcg', '400 mcg'],\n",
       " 'Sodium (mg)': ['1,500 mg', '0 mg'],\n",
       " 'Zinc (mg)': ['11 mg', '40 mg']}"
      ]
     },
     "execution_count": 14,
     "metadata": {},
     "output_type": "execute_result"
    }
   ],
   "source": [
    "c['Calcium (mg)'] = c.pop('Calcium')\n",
    "c['Copper (mg)'] = c.pop('Chloride')\n",
    "c['Iron (mg)'] = c.pop('Iron')\n",
    "c['Magnesium (mg)'] = c.pop('Magnesium')\n",
    "c['Manganese (mg)'] = c.pop('Manganese')\n",
    "c['Phosphorus (mg)'] = c.pop('Phosphorus')\n",
    "c['Potassium (mg)'] = c.pop('Potassium')\n",
    "c['Selenium (µg)'] = c.pop('Selenium')\n",
    "c['Sodium (mg)'] = c.pop('Sodium')\n",
    "c['Zinc (mg)'] = c.pop('Zinc')\n",
    "c"
   ]
  },
  {
   "cell_type": "code",
   "execution_count": 15,
   "id": "ff4df0f0",
   "metadata": {},
   "outputs": [
    {
     "data": {
      "text/plain": [
       "{'Chromium': ['35', '0'],\n",
       " 'Copper': ['900', '10000'],\n",
       " 'Fluoride': ['4', '10'],\n",
       " 'Iodine': ['150', '1100'],\n",
       " 'Molybdenum': ['45', '2000'],\n",
       " 'Arsenic': [None, None],\n",
       " 'Boron': ['0', '20'],\n",
       " 'Nickel': ['0', '1'],\n",
       " 'Silicon': [None, None],\n",
       " 'Sulfate': [None, None],\n",
       " 'Vanadium': ['0', '1.8'],\n",
       " 'Calcium (mg)': ['1000', '2500'],\n",
       " 'Copper (mg)': ['2.3', '3.6'],\n",
       " 'Iron (mg)': ['8', '45'],\n",
       " 'Magnesium (mg)': ['400', '350'],\n",
       " 'Manganese (mg)': ['2.3', '11'],\n",
       " 'Phosphorus (mg)': ['0.7', '4'],\n",
       " 'Potassium (mg)': ['3400', '0'],\n",
       " 'Selenium (µg)': ['55', '400'],\n",
       " 'Sodium (mg)': ['1500', '0'],\n",
       " 'Zinc (mg)': ['11', '40']}"
      ]
     },
     "execution_count": 15,
     "metadata": {},
     "output_type": "execute_result"
    }
   ],
   "source": [
    "c = process_dict_b(c)\n",
    "c"
   ]
  },
  {
   "cell_type": "code",
   "execution_count": 16,
   "id": "f49908ef",
   "metadata": {},
   "outputs": [],
   "source": [
    "def process_data(a,b,c):\n",
    "    a['Carbs (g)'] = a.pop('Carbohydrate')\n",
    "    a['Fiber (g)'] = a.pop('Total Fiber')\n",
    "    a['Protein (g)'] = a.pop('Protein')\n",
    "    a['Fat (g)'] = a.pop('Fat')\n",
    "    a['Trans-Fats (g)'] = a.pop('Trans fatty acids')\n",
    "    a['Cholesterol (mg)'] = a.pop('Dietary Cholesterol')\n",
    "    a['water'] = a.pop('Total Water')\n",
    "    \n",
    "    b['Vitamin A (IU)'] = b.pop('Vitamin A')\n",
    "    b['Vitamin C (mg)'] = b.pop('Vitamin C')\n",
    "    b['Vitamin D (IU)'] = b.pop('Vitamin D')\n",
    "    b['B6 (Pyridoxine) (mg)'] = b.pop('Vitamin B6')\n",
    "    b['Vitamin E (mg)'] = b.pop('Vitamin E')\n",
    "    b['Vitamin K (µg)'] = b.pop('Vitamin K')\n",
    "    b['B1 (Thiamine) (mg)'] = b.pop('Thiamin')\n",
    "    b['B12 (Cobalamin) (µg)'] = b.pop('Vitamin B12')\n",
    "    b['B2 (Riboflavin) (mg)'] = b.pop('Riboflavin')\n",
    "    b['Folate (µg)'] = b.pop('Folate')\n",
    "    b['B3 (Niacin) (mg)'] = b.pop('Niacin')\n",
    "    b['B5 (Pantothenic Acid) (mg)'] = b.pop('Pantothenic Acid')\n",
    "    \n",
    "    c['Calcium (mg)'] = c.pop('Calcium')\n",
    "    c['Copper (mg)'] = c.pop('Chloride')\n",
    "    c['Iron (mg)'] = c.pop('Iron')\n",
    "    c['Magnesium (mg)'] = c.pop('Magnesium')\n",
    "    c['Manganese (mg)'] = c.pop('Manganese')\n",
    "    c['Phosphorus (mg)'] = c.pop('Phosphorus')\n",
    "    c['Potassium (mg)'] = c.pop('Potassium')\n",
    "    c['Selenium (µg)'] = c.pop('Selenium')\n",
    "    c['Sodium (mg)'] = c.pop('Sodium')\n",
    "    c['Zinc (mg)'] = c.pop('Zinc')\n",
    "    a =  process_dict(a)\n",
    "    b =  process_dict_b(b)\n",
    "    c =  process_dict_b(c)\n",
    "    return a,b,c\n",
    "\n",
    "    "
   ]
  },
  {
   "cell_type": "code",
   "execution_count": null,
   "id": "f340de01",
   "metadata": {},
   "outputs": [],
   "source": []
  }
 ],
 "metadata": {
  "kernelspec": {
   "display_name": "Python 3 (ipykernel)",
   "language": "python",
   "name": "python3"
  },
  "language_info": {
   "codemirror_mode": {
    "name": "ipython",
    "version": 3
   },
   "file_extension": ".py",
   "mimetype": "text/x-python",
   "name": "python",
   "nbconvert_exporter": "python",
   "pygments_lexer": "ipython3",
   "version": "3.9.12"
  }
 },
 "nbformat": 4,
 "nbformat_minor": 5
}
