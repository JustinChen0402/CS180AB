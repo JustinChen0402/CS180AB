{
 "cells": [
  {
   "cell_type": "code",
   "execution_count": null,
   "metadata": {},
   "outputs": [],
   "source": [
    "from dowhy import CausalModel\n",
    "import pandas as pd\n",
    "import data_template, dri\n",
    "import csv\n",
    "import networkx\n",
    "from networkx.drawing.nx_pydot import to_pydot\n",
    "import score"
   ]
  },
  {
   "cell_type": "code",
   "execution_count": null,
   "metadata": {},
   "outputs": [],
   "source": [
    "# physical traits of user\n",
    "feet, inches = 5, 7\n",
    "height = [feet, inches]\n",
    "age = 30\n",
    "weight = 170\n",
    "gender = \"male\""
   ]
  },
  {
   "cell_type": "code",
   "execution_count": null,
   "metadata": {},
   "outputs": [],
   "source": [
    "# Initialize Person class and gather data for each recorded day in given csv files\n",
    "Tom = data_template.create_person(gender,age,height)\n",
    "\n",
    "# Get daily recommendations for nutrients\n",
    "a,b,c = dri.pull(gender, age, feet, inches, weight)\n",
    "macros, vitamins, minerals = dri.process_data(a, b, c)"
   ]
  },
  {
   "cell_type": "code",
   "execution_count": null,
   "metadata": {},
   "outputs": [],
   "source": [
    "# Get average hours of sleep to assign to days with nutrient measurement but no sleep hours\n",
    "totalSleep, days = 0, 0\n",
    "\n",
    "with open(\"noNull/sleep_noNull.csv\", 'r') as file:\n",
    "    reader = csv.reader(file)\n",
    "    next(reader)\n",
    "\n",
    "    \n",
    "    for row in reader:\n",
    "        totalSleep += float(row[1])\n",
    "        days += 1\n",
    "\n",
    "avgSleep = totalSleep / days"
   ]
  },
  {
   "cell_type": "code",
   "execution_count": null,
   "metadata": {},
   "outputs": [],
   "source": [
    "# Get scores for overall health, sleep, macronutrients, and vitamins & minerals\n",
    "with open(\"score.csv\", 'w') as file:\n",
    "    writer = csv.writer(file)\n",
    "    writer.writerow(['Date', 'Health Score', 'Sleep score', 'Macro score', 'Vitamin and Mineral Score'])\n",
    "\n",
    "    count = 0\n",
    "    for i,v in Tom.Days.items():\n",
    "        if count >= 20:\n",
    "            break\n",
    "        if v.nutrition:\n",
    "            scoring, sleep, macro, vit_min = score.score([feet, inches], weight, age, gender, avgSleep if not v.sleep else v.sleep, v.nutrition)\n",
    "            results = [i, scoring, sleep, macro, vit_min]\n",
    "            writer.writerow(results)\n",
    "            \n",
    "            count += 1"
   ]
  },
  {
   "cell_type": "code",
   "execution_count": null,
   "metadata": {},
   "outputs": [],
   "source": [
    "# Organize all scores and measurements into one combined csv file to process together\n",
    "file, score, nutri, sleep= open(\"combined.csv\", \"w\"), open('score.csv', 'r'), open('noNull/nutrition_noNull.csv', 'r'), open('noNull/sleep_noNull.csv', 'r')\n",
    "writer, reader1, reader2, reader3 = csv.writer(file), csv.reader(score), csv.reader(nutri), csv.reader(sleep)\n",
    "\n",
    "h1, h2, h3 = next(reader1), next(reader2), next(reader3)\n",
    "head = h1 + [h3[1]] + h2[1:-1]\n",
    "writer.writerow(head)\n",
    "sleep.close()\n",
    "\n",
    "allMacros, allV_M = [], []\n",
    "\n",
    "count = 0\n",
    "for i, v in Tom.Days.items():\n",
    "    if count == 20:\n",
    "        break\n",
    "    if v.nutrition:\n",
    "        vit_min = {}\n",
    "        vit_min.update(vitamins)\n",
    "        vit_min.update(minerals)\n",
    "        if not allMacros and not allV_M:\n",
    "            allMacros, allV_M = [m for m in macros if m in v.nutrition and macros[m]], [vm for vm in vit_min if vm in v.nutrition and vit_min[vm]]\n",
    "\n",
    "        scoring, nutrient = next(reader1),next(reader2)\n",
    "        writer.writerow(scoring + [avgSleep if not v.sleep else v.sleep] + nutrient[1:-1])\n",
    "        count += 1\n",
    "\n",
    "file.close()\n",
    "score.close()\n",
    "nutri.close()"
   ]
  },
  {
   "cell_type": "code",
   "execution_count": null,
   "metadata": {},
   "outputs": [],
   "source": [
    "df = pd.read_csv('combined.csv')\n",
    "df.head()"
   ]
  },
  {
   "cell_type": "code",
   "execution_count": null,
   "metadata": {},
   "outputs": [],
   "source": [
    "# Map the measurements to their respective subscores and the subscores to Health score in a DAG\n",
    "graph = networkx.DiGraph()\n",
    "\n",
    "graph.add_edge(\"Macro score\", \"Health Score\")\n",
    "graph.add_edge(\"Vitamin and Mineral Score\", \"Health Score\")\n",
    "graph.add_edge(\"Sleep score\", \"Health Score\")\n",
    "\n",
    "graph.add_edges_from([(m, \"Macro score\") for m in allMacros])\n",
    "graph.add_edges_from([(vm, \"Vitamin and Mineral Score\") for vm in allV_M])\n",
    "graph.add_edge(\"Sleep(hours)\", \"Sleep score\")\n",
    "\n",
    "\n",
    "# Convert DAG to string for Causal Model\n",
    "graph_dot = to_pydot(graph).to_string()"
   ]
  },
  {
   "cell_type": "code",
   "execution_count": null,
   "metadata": {},
   "outputs": [],
   "source": [
    "# Iterate through all macros recorded in csv file and determine their average effect on the Macro score\n",
    "macro_effect = dict()\n",
    "\n",
    "for m in allMacros:\n",
    "    model = CausalModel(data=df, treatment=m, outcome=\"Macro score\", graph=graph_dot)\n",
    "\n",
    "    identified_estimand = model.identify_effect(proceed_when_unidentifiable=True)\n",
    "    estimate = model.estimate_effect(identified_estimand,\n",
    "                                    method_name=\"backdoor.linear_regression\",\n",
    "                                    test_significance=0.05,\n",
    "                                    confidence_intervals=True)\n",
    "    print(\"----------------------------------------------------------------------------------------------------------------\")\n",
    "    macro_effect[m] = {'avg effect': estimate.value, 'p-value': estimate.test_stat_significance()['p_value'][0]}"
   ]
  },
  {
   "cell_type": "code",
   "execution_count": null,
   "metadata": {},
   "outputs": [],
   "source": [
    "# Display of all recorded macros with their average effect on macro score along with their p-values\n",
    "macro_effect"
   ]
  },
  {
   "cell_type": "code",
   "execution_count": null,
   "metadata": {},
   "outputs": [],
   "source": [
    "# Iterate through all vitmains and minerals recorded in csv file and determine their average effect on the Vitamin and Mineral score\n",
    "vm_effect = dict()\n",
    "\n",
    "for m in allV_M:\n",
    "    model = CausalModel(data=df, treatment=m, outcome=\"Vitamin and Mineral Score\", graph=graph_dot)\n",
    "\n",
    "    identified_estimand = model.identify_effect(proceed_when_unidentifiable=True)\n",
    "    print(identified_estimand)\n",
    "    estimate = model.estimate_effect(identified_estimand,\n",
    "                                 method_name=\"backdoor.linear_regression\",\n",
    "                                 test_significance=0.05,\n",
    "                                 confidence_intervals=True)\n",
    "    print(\"----------------------------------------------------------------------------------------------------------------\")\n",
    "    vm_effect[m] = {'avg effect': estimate.value, 'p-value': estimate.test_stat_significance()['p_value'][0]}\n"
   ]
  },
  {
   "cell_type": "code",
   "execution_count": null,
   "metadata": {},
   "outputs": [],
   "source": [
    "# Display of all recorded vitmains and minerals with their average effect on vitmains and minerals score along with their p-values\n",
    "vm_effect"
   ]
  },
  {
   "cell_type": "code",
   "execution_count": null,
   "metadata": {},
   "outputs": [],
   "source": [
    "blank = None, None, None\n",
    "\n",
    "def getMinNutrient(effect: dict) -> tuple:\n",
    "    minEffect = min([effect[n]['avg effect'] for n in effect])\n",
    "\n",
    "    for n in effect:\n",
    "        if effect[n]['avg effect'] == minEffect:\n",
    "            return n, effect[n]['avg effect'],  effect[n]['p-value']\n",
    "\n",
    "    return blank"
   ]
  },
  {
   "cell_type": "code",
   "execution_count": null,
   "metadata": {},
   "outputs": [],
   "source": [
    "# Determine which of the recorded nutrient has the smallest effect on their respective subscore\n",
    "minNutrient = blank\n",
    "\n",
    "minVitMin, minMacro = getMinNutrient(vm_effect), getMinNutrient(macro_effect)\n",
    "if minVitMin == blank and minMacro != blank:\n",
    "    minNutrient = minMacro\n",
    "elif minVitMin != blank and minMacro == blank:\n",
    "    minNutrient = minVitMin\n",
    "elif minVitMin != blank and minMacro != blank:\n",
    "    minNutrient = minVitMin if min(minVitMin[1], minMacro[1]) == minVitMin[1] else minMacro"
   ]
  },
  {
   "cell_type": "code",
   "execution_count": null,
   "metadata": {},
   "outputs": [],
   "source": [
    "# Determine average effect of sleep hours on sleep score\n",
    "model = CausalModel(data=df, treatment='Sleep(hours)', outcome=\"Sleep score\", graph=graph_dot)\n",
    "model.view_model()\n",
    "\n",
    "identified_estimand = model.identify_effect(proceed_when_unidentifiable=True)\n",
    "estimate = model.estimate_effect(identified_estimand,\n",
    "                                method_name=\"backdoor.linear_regression\",\n",
    "                                test_significance=0.05,\n",
    "                                confidence_intervals=True)\n",
    "\n",
    "sleep_effect = \"Sleep(hours)\", estimate.value, estimate.test_stat_significance()['p_value'][0]"
   ]
  },
  {
   "cell_type": "code",
   "execution_count": null,
   "metadata": {},
   "outputs": [],
   "source": [
    "# Display of average effect of sleep of sleep score and its p-value\n",
    "sleep_effect"
   ]
  },
  {
   "cell_type": "code",
   "execution_count": null,
   "metadata": {},
   "outputs": [],
   "source": [
    "# Display the nutrient with the smallest effect of on its subscore\n",
    "minNutrient"
   ]
  },
  {
   "cell_type": "code",
   "execution_count": null,
   "metadata": {},
   "outputs": [],
   "source": [
    "\n",
    "model = CausalModel(data=df, treatment='Sleep score', outcome=\"Health Score\", graph=graph_dot)\n",
    "model.view_model()\n",
    "\n",
    "identified_estimand = model.identify_effect(proceed_when_unidentifiable=True)\n",
    "estimate = model.estimate_effect(identified_estimand,\n",
    "                                method_name=\"backdoor.linear_regression\",\n",
    "                                test_significance=0.05,\n",
    "                                confidence_intervals=True)\n",
    "\n",
    "print(estimate)"
   ]
  },
  {
   "cell_type": "code",
   "execution_count": null,
   "metadata": {},
   "outputs": [],
   "source": [
    "model = CausalModel(data=df, treatment='Macro score', outcome=\"Health Score\", graph=graph_dot)\n",
    "model.view_model()\n",
    "\n",
    "identified_estimand = model.identify_effect(proceed_when_unidentifiable=True)\n",
    "estimate = model.estimate_effect(identified_estimand,\n",
    "                                method_name=\"backdoor.linear_regression\",\n",
    "                                test_significance=0.05,\n",
    "                                confidence_intervals=True)\n",
    "\n",
    "print(estimate)"
   ]
  },
  {
   "cell_type": "code",
   "execution_count": null,
   "metadata": {},
   "outputs": [],
   "source": [
    "model = CausalModel(data=df, treatment='Vitamin and Mineral Score', outcome=\"Health Score\", graph=graph_dot)\n",
    "model.view_model()\n",
    "\n",
    "identified_estimand = model.identify_effect(proceed_when_unidentifiable=True)\n",
    "estimate = model.estimate_effect(identified_estimand,\n",
    "                                method_name=\"backdoor.linear_regression\",\n",
    "                                test_significance=0.05,\n",
    "                                confidence_intervals=True)\n",
    "print(estimate)"
   ]
  }
 ],
 "metadata": {
  "kernelspec": {
   "display_name": "base",
   "language": "python",
   "name": "python3"
  },
  "language_info": {
   "codemirror_mode": {
    "name": "ipython",
    "version": 3
   },
   "file_extension": ".py",
   "mimetype": "text/x-python",
   "name": "python",
   "nbconvert_exporter": "python",
   "pygments_lexer": "ipython3",
   "version": "3.9.12"
  },
  "orig_nbformat": 4
 },
 "nbformat": 4,
 "nbformat_minor": 2
}
